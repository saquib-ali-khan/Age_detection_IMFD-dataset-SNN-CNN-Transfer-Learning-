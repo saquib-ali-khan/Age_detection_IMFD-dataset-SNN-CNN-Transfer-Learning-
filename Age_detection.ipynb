{
 "cells": [
  {
   "cell_type": "code",
   "execution_count": 1,
   "metadata": {},
   "outputs": [
    {
     "name": "stdout",
     "output_type": "stream",
     "text": [
      "Populating the interactive namespace from numpy and matplotlib\n"
     ]
    }
   ],
   "source": [
    "%pylab inline\n",
    "import os\n",
    "import random\n",
    "import pandas as pd"
   ]
  },
  {
   "cell_type": "code",
   "execution_count": 2,
   "metadata": {
    "collapsed": true
   },
   "outputs": [],
   "source": [
    "from scipy.misc import imread"
   ]
  },
  {
   "cell_type": "code",
   "execution_count": 3,
   "metadata": {},
   "outputs": [
    {
     "name": "stdout",
     "output_type": "stream",
     "text": [
      "/home/deepak/Saquib/CNNs\r\n"
     ]
    }
   ],
   "source": [
    "!pwd\n"
   ]
  },
  {
   "cell_type": "code",
   "execution_count": 4,
   "metadata": {},
   "outputs": [
    {
     "name": "stdout",
     "output_type": "stream",
     "text": [
      "Age_detection.ipynb\r\n",
      "Age_detection_sub1.csv\r\n",
      "Age_detection_sub2.csv\r\n",
      "Converting MNIST images to RGB.ipynb\r\n",
      "data\r\n",
      "first_try.h5\r\n",
      "mnist.pkl.gz\r\n",
      "Rough Notebook.ipynb\r\n",
      "sub1.csv\r\n",
      "sub2.csv\r\n",
      "sub3.csv\r\n",
      "Transfer Learning.ipynb\r\n",
      "vgg16_weights_tf_dim_ordering_tf_kernels_notop.h5\r\n"
     ]
    }
   ],
   "source": [
    "!ls\n"
   ]
  },
  {
   "cell_type": "code",
   "execution_count": 5,
   "metadata": {
    "collapsed": true
   },
   "outputs": [],
   "source": [
    "!cd data"
   ]
  },
  {
   "cell_type": "code",
   "execution_count": 6,
   "metadata": {},
   "outputs": [
    {
     "name": "stdout",
     "output_type": "stream",
     "text": [
      "Age_detection.ipynb\r\n",
      "Age_detection_sub1.csv\r\n",
      "Age_detection_sub2.csv\r\n",
      "Converting MNIST images to RGB.ipynb\r\n",
      "data\r\n",
      "first_try.h5\r\n",
      "mnist.pkl.gz\r\n",
      "Rough Notebook.ipynb\r\n",
      "sub1.csv\r\n",
      "sub2.csv\r\n",
      "sub3.csv\r\n",
      "Transfer Learning.ipynb\r\n",
      "vgg16_weights_tf_dim_ordering_tf_kernels_notop.h5\r\n"
     ]
    }
   ],
   "source": [
    "!ls\n"
   ]
  },
  {
   "cell_type": "code",
   "execution_count": 7,
   "metadata": {},
   "outputs": [
    {
     "name": "stdout",
     "output_type": "stream",
     "text": [
      "Age_detection.ipynb\r\n",
      "Age_detection_sub1.csv\r\n",
      "Age_detection_sub2.csv\r\n",
      "Converting MNIST images to RGB.ipynb\r\n",
      "data\r\n",
      "first_try.h5\r\n",
      "mnist.pkl.gz\r\n",
      "Rough Notebook.ipynb\r\n",
      "sub1.csv\r\n",
      "sub2.csv\r\n",
      "sub3.csv\r\n",
      "Transfer Learning.ipynb\r\n",
      "vgg16_weights_tf_dim_ordering_tf_kernels_notop.h5\r\n"
     ]
    }
   ],
   "source": [
    "!ls\n"
   ]
  },
  {
   "cell_type": "code",
   "execution_count": 8,
   "metadata": {
    "collapsed": true
   },
   "outputs": [],
   "source": [
    "\n",
    "train = pd.read_csv('data/train/train.csv')\n",
    "test = pd.read_csv('data/test/test.csv')"
   ]
  },
  {
   "cell_type": "code",
   "execution_count": 9,
   "metadata": {},
   "outputs": [
    {
     "data": {
      "text/plain": [
       "RangeIndex(start=0, stop=19906, step=1)"
      ]
     },
     "execution_count": 9,
     "metadata": {},
     "output_type": "execute_result"
    }
   ],
   "source": [
    "train.index"
   ]
  },
  {
   "cell_type": "code",
   "execution_count": 10,
   "metadata": {},
   "outputs": [
    {
     "data": {
      "text/plain": [
       "pandas.core.indexes.range.RangeIndex"
      ]
     },
     "execution_count": 10,
     "metadata": {},
     "output_type": "execute_result"
    }
   ],
   "source": [
    "type(train.index)"
   ]
  },
  {
   "cell_type": "code",
   "execution_count": 11,
   "metadata": {},
   "outputs": [
    {
     "data": {
      "text/html": [
       "<div>\n",
       "<style>\n",
       "    .dataframe thead tr:only-child th {\n",
       "        text-align: right;\n",
       "    }\n",
       "\n",
       "    .dataframe thead th {\n",
       "        text-align: left;\n",
       "    }\n",
       "\n",
       "    .dataframe tbody tr th {\n",
       "        vertical-align: top;\n",
       "    }\n",
       "</style>\n",
       "<table border=\"1\" class=\"dataframe\">\n",
       "  <thead>\n",
       "    <tr style=\"text-align: right;\">\n",
       "      <th></th>\n",
       "      <th>ID</th>\n",
       "      <th>Class</th>\n",
       "    </tr>\n",
       "  </thead>\n",
       "  <tbody>\n",
       "    <tr>\n",
       "      <th>count</th>\n",
       "      <td>19906</td>\n",
       "      <td>19906</td>\n",
       "    </tr>\n",
       "    <tr>\n",
       "      <th>unique</th>\n",
       "      <td>19906</td>\n",
       "      <td>3</td>\n",
       "    </tr>\n",
       "    <tr>\n",
       "      <th>top</th>\n",
       "      <td>25628.jpg</td>\n",
       "      <td>MIDDLE</td>\n",
       "    </tr>\n",
       "    <tr>\n",
       "      <th>freq</th>\n",
       "      <td>1</td>\n",
       "      <td>10804</td>\n",
       "    </tr>\n",
       "  </tbody>\n",
       "</table>\n",
       "</div>"
      ],
      "text/plain": [
       "               ID   Class\n",
       "count       19906   19906\n",
       "unique      19906       3\n",
       "top     25628.jpg  MIDDLE\n",
       "freq            1   10804"
      ]
     },
     "execution_count": 11,
     "metadata": {},
     "output_type": "execute_result"
    }
   ],
   "source": [
    "train.describe()\n"
   ]
  },
  {
   "cell_type": "code",
   "execution_count": 12,
   "metadata": {},
   "outputs": [
    {
     "data": {
      "text/plain": [
       "<bound method DataFrame.describe of               ID   Class\n",
       "0        377.jpg  MIDDLE\n",
       "1      17814.jpg   YOUNG\n",
       "2      21283.jpg  MIDDLE\n",
       "3      16496.jpg   YOUNG\n",
       "4       4487.jpg  MIDDLE\n",
       "5       6283.jpg  MIDDLE\n",
       "6      23495.jpg   YOUNG\n",
       "7       7100.jpg   YOUNG\n",
       "8       6028.jpg   YOUNG\n",
       "9      22617.jpg     OLD\n",
       "10     11177.jpg   YOUNG\n",
       "11      2462.jpg  MIDDLE\n",
       "12     24116.jpg  MIDDLE\n",
       "13     17689.jpg  MIDDLE\n",
       "14       728.jpg  MIDDLE\n",
       "15      3003.jpg  MIDDLE\n",
       "16     14408.jpg     OLD\n",
       "17      6679.jpg   YOUNG\n",
       "18     15152.jpg     OLD\n",
       "19     24784.jpg  MIDDLE\n",
       "20      9970.jpg   YOUNG\n",
       "21     22550.jpg     OLD\n",
       "22       150.jpg   YOUNG\n",
       "23      7379.jpg  MIDDLE\n",
       "24     15387.jpg  MIDDLE\n",
       "25      2336.jpg   YOUNG\n",
       "26      9603.jpg  MIDDLE\n",
       "27      4025.jpg     OLD\n",
       "28     17696.jpg  MIDDLE\n",
       "29     17552.jpg   YOUNG\n",
       "...          ...     ...\n",
       "19876  11988.jpg     OLD\n",
       "19877   9407.jpg     OLD\n",
       "19878  25426.jpg   YOUNG\n",
       "19879  16609.jpg   YOUNG\n",
       "19880  18746.jpg   YOUNG\n",
       "19881  25714.jpg  MIDDLE\n",
       "19882  14939.jpg  MIDDLE\n",
       "19883  10025.jpg   YOUNG\n",
       "19884   6149.jpg     OLD\n",
       "19885   9733.jpg   YOUNG\n",
       "19886  22630.jpg  MIDDLE\n",
       "19887  11803.jpg  MIDDLE\n",
       "19888  10812.jpg   YOUNG\n",
       "19889   7038.jpg   YOUNG\n",
       "19890   3021.jpg  MIDDLE\n",
       "19891   4727.jpg   YOUNG\n",
       "19892   7979.jpg  MIDDLE\n",
       "19893  26159.jpg  MIDDLE\n",
       "19894   2040.jpg  MIDDLE\n",
       "19895  25347.jpg  MIDDLE\n",
       "19896  15100.jpg   YOUNG\n",
       "19897  26182.jpg  MIDDLE\n",
       "19898    742.jpg     OLD\n",
       "19899   5318.jpg  MIDDLE\n",
       "19900  25514.jpg  MIDDLE\n",
       "19901   2482.jpg  MIDDLE\n",
       "19902  20085.jpg   YOUNG\n",
       "19903  19663.jpg  MIDDLE\n",
       "19904  10132.jpg  MIDDLE\n",
       "19905   9896.jpg  MIDDLE\n",
       "\n",
       "[19906 rows x 2 columns]>"
      ]
     },
     "execution_count": 12,
     "metadata": {},
     "output_type": "execute_result"
    }
   ],
   "source": [
    "train.describe"
   ]
  },
  {
   "cell_type": "code",
   "execution_count": 13,
   "metadata": {},
   "outputs": [
    {
     "data": {
      "text/plain": [
       "RangeIndex(start=0, stop=19906, step=1)"
      ]
     },
     "execution_count": 13,
     "metadata": {},
     "output_type": "execute_result"
    }
   ],
   "source": [
    "train.index"
   ]
  },
  {
   "cell_type": "code",
   "execution_count": 14,
   "metadata": {},
   "outputs": [
    {
     "name": "stdout",
     "output_type": "stream",
     "text": [
      "RangeIndex(start=0, stop=19906, step=1)\n"
     ]
    }
   ],
   "source": [
    "print train.index"
   ]
  },
  {
   "cell_type": "code",
   "execution_count": 15,
   "metadata": {
    "collapsed": true
   },
   "outputs": [],
   "source": [
    "i = random.choice(train.index)"
   ]
  },
  {
   "cell_type": "code",
   "execution_count": 16,
   "metadata": {},
   "outputs": [
    {
     "name": "stdout",
     "output_type": "stream",
     "text": [
      "8305\n"
     ]
    }
   ],
   "source": [
    "print i"
   ]
  },
  {
   "cell_type": "code",
   "execution_count": 17,
   "metadata": {
    "collapsed": true
   },
   "outputs": [],
   "source": [
    "i = random.choice(train.index)"
   ]
  },
  {
   "cell_type": "code",
   "execution_count": 18,
   "metadata": {},
   "outputs": [
    {
     "name": "stdout",
     "output_type": "stream",
     "text": [
      "6234\n"
     ]
    }
   ],
   "source": [
    "print i\n"
   ]
  },
  {
   "cell_type": "code",
   "execution_count": 19,
   "metadata": {
    "collapsed": true
   },
   "outputs": [],
   "source": [
    "image_name = train.ID[i]"
   ]
  },
  {
   "cell_type": "code",
   "execution_count": 20,
   "metadata": {
    "collapsed": true
   },
   "outputs": [],
   "source": [
    "################## The train object or dataframe right now only contains the names of images, not the images themselves,i.e, not their pixel values.#############\n",
    "####  train rt now does not contain the real dataset. it just contains it's reference.\n",
    "#### we build the real train dataset in an object called train_x which will contain actual image pixels( i.e. the real images themselves)"
   ]
  },
  {
   "cell_type": "code",
   "execution_count": 21,
   "metadata": {},
   "outputs": [
    {
     "name": "stdout",
     "output_type": "stream",
     "text": [
      "/home/deepak/Saquib/CNNs\r\n"
     ]
    }
   ],
   "source": [
    "\n",
    "!pwd"
   ]
  },
  {
   "cell_type": "code",
   "execution_count": 22,
   "metadata": {},
   "outputs": [
    {
     "name": "stdout",
     "output_type": "stream",
     "text": [
      "Age_detection.ipynb\r\n",
      "Age_detection_sub1.csv\r\n",
      "Age_detection_sub2.csv\r\n",
      "Converting MNIST images to RGB.ipynb\r\n",
      "data\r\n",
      "first_try.h5\r\n",
      "mnist.pkl.gz\r\n",
      "Rough Notebook.ipynb\r\n",
      "sub1.csv\r\n",
      "sub2.csv\r\n",
      "sub3.csv\r\n",
      "Transfer Learning.ipynb\r\n",
      "vgg16_weights_tf_dim_ordering_tf_kernels_notop.h5\r\n"
     ]
    }
   ],
   "source": [
    "!ls\n"
   ]
  },
  {
   "cell_type": "code",
   "execution_count": 23,
   "metadata": {
    "collapsed": true
   },
   "outputs": [],
   "source": [
    "image_path = 'data/train/Train/'+image_name"
   ]
  },
  {
   "cell_type": "code",
   "execution_count": 24,
   "metadata": {},
   "outputs": [
    {
     "data": {
      "text/plain": [
       "(99, 78, 3)"
      ]
     },
     "execution_count": 24,
     "metadata": {},
     "output_type": "execute_result"
    }
   ],
   "source": [
    "image = imread(image_path)\n",
    "image.shape"
   ]
  },
  {
   "cell_type": "code",
   "execution_count": 25,
   "metadata": {},
   "outputs": [
    {
     "data": {
      "text/plain": [
       "<matplotlib.image.AxesImage at 0x7fe0f24c2690>"
      ]
     },
     "execution_count": 25,
     "metadata": {},
     "output_type": "execute_result"
    },
    {
     "data": {
      "image/png": "[encoded data removed]",
      "text/plain": [
       "<matplotlib.figure.Figure at 0x7fe0f3547d50>"
      ]
     },
     "metadata": {},
     "output_type": "display_data"
    }
   ],
   "source": [
    "imshow(image)"
   ]
  },
  {
   "cell_type": "code",
   "execution_count": 26,
   "metadata": {},
   "outputs": [
    {
     "ename": "SyntaxError",
     "evalue": "invalid syntax (<ipython-input-26-78dec1ddfcc9>, line 1)",
     "output_type": "error",
     "traceback": [
      "\u001b[0;36m  File \u001b[0;32m\"<ipython-input-26-78dec1ddfcc9>\"\u001b[0;36m, line \u001b[0;32m1\u001b[0m\n\u001b[0;31m    print train.class[i]\u001b[0m\n\u001b[0m                    ^\u001b[0m\n\u001b[0;31mSyntaxError\u001b[0m\u001b[0;31m:\u001b[0m invalid syntax\n"
     ]
    }
   ],
   "source": [
    "print train.class[i]"
   ]
  },
  {
   "cell_type": "code",
   "execution_count": 27,
   "metadata": {},
   "outputs": [
    {
     "data": {
      "text/html": [
       "<div>\n",
       "<style>\n",
       "    .dataframe thead tr:only-child th {\n",
       "        text-align: right;\n",
       "    }\n",
       "\n",
       "    .dataframe thead th {\n",
       "        text-align: left;\n",
       "    }\n",
       "\n",
       "    .dataframe tbody tr th {\n",
       "        vertical-align: top;\n",
       "    }\n",
       "</style>\n",
       "<table border=\"1\" class=\"dataframe\">\n",
       "  <thead>\n",
       "    <tr style=\"text-align: right;\">\n",
       "      <th></th>\n",
       "      <th>ID</th>\n",
       "      <th>Class</th>\n",
       "    </tr>\n",
       "  </thead>\n",
       "  <tbody>\n",
       "    <tr>\n",
       "      <th>count</th>\n",
       "      <td>19906</td>\n",
       "      <td>19906</td>\n",
       "    </tr>\n",
       "    <tr>\n",
       "      <th>unique</th>\n",
       "      <td>19906</td>\n",
       "      <td>3</td>\n",
       "    </tr>\n",
       "    <tr>\n",
       "      <th>top</th>\n",
       "      <td>25628.jpg</td>\n",
       "      <td>MIDDLE</td>\n",
       "    </tr>\n",
       "    <tr>\n",
       "      <th>freq</th>\n",
       "      <td>1</td>\n",
       "      <td>10804</td>\n",
       "    </tr>\n",
       "  </tbody>\n",
       "</table>\n",
       "</div>"
      ],
      "text/plain": [
       "               ID   Class\n",
       "count       19906   19906\n",
       "unique      19906       3\n",
       "top     25628.jpg  MIDDLE\n",
       "freq            1   10804"
      ]
     },
     "execution_count": 27,
     "metadata": {},
     "output_type": "execute_result"
    }
   ],
   "source": [
    "train.describe()"
   ]
  },
  {
   "cell_type": "code",
   "execution_count": 28,
   "metadata": {},
   "outputs": [
    {
     "name": "stdout",
     "output_type": "stream",
     "text": [
      "YOUNG\n"
     ]
    }
   ],
   "source": [
    "print train.Class[i]"
   ]
  },
  {
   "cell_type": "code",
   "execution_count": 29,
   "metadata": {},
   "outputs": [
    {
     "name": "stdout",
     "output_type": "stream",
     "text": [
      "0          377.jpg\n",
      "1        17814.jpg\n",
      "2        21283.jpg\n",
      "3        16496.jpg\n",
      "4         4487.jpg\n",
      "5         6283.jpg\n",
      "6        23495.jpg\n",
      "7         7100.jpg\n",
      "8         6028.jpg\n",
      "9        22617.jpg\n",
      "10       11177.jpg\n",
      "11        2462.jpg\n",
      "12       24116.jpg\n",
      "13       17689.jpg\n",
      "14         728.jpg\n",
      "15        3003.jpg\n",
      "16       14408.jpg\n",
      "17        6679.jpg\n",
      "18       15152.jpg\n",
      "19       24784.jpg\n",
      "20        9970.jpg\n",
      "21       22550.jpg\n",
      "22         150.jpg\n",
      "23        7379.jpg\n",
      "24       15387.jpg\n",
      "25        2336.jpg\n",
      "26        9603.jpg\n",
      "27        4025.jpg\n",
      "28       17696.jpg\n",
      "29       17552.jpg\n",
      "           ...    \n",
      "19876    11988.jpg\n",
      "19877     9407.jpg\n",
      "19878    25426.jpg\n",
      "19879    16609.jpg\n",
      "19880    18746.jpg\n",
      "19881    25714.jpg\n",
      "19882    14939.jpg\n",
      "19883    10025.jpg\n",
      "19884     6149.jpg\n",
      "19885     9733.jpg\n",
      "19886    22630.jpg\n",
      "19887    11803.jpg\n",
      "19888    10812.jpg\n",
      "19889     7038.jpg\n",
      "19890     3021.jpg\n",
      "19891     4727.jpg\n",
      "19892     7979.jpg\n",
      "19893    26159.jpg\n",
      "19894     2040.jpg\n",
      "19895    25347.jpg\n",
      "19896    15100.jpg\n",
      "19897    26182.jpg\n",
      "19898      742.jpg\n",
      "19899     5318.jpg\n",
      "19900    25514.jpg\n",
      "19901     2482.jpg\n",
      "19902    20085.jpg\n",
      "19903    19663.jpg\n",
      "19904    10132.jpg\n",
      "19905     9896.jpg\n",
      "Name: ID, Length: 19906, dtype: object\n"
     ]
    }
   ],
   "source": [
    "print train.ID"
   ]
  },
  {
   "cell_type": "code",
   "execution_count": 30,
   "metadata": {},
   "outputs": [
    {
     "ename": "KeyboardInterrupt",
     "evalue": "",
     "output_type": "error",
     "traceback": [
      "\u001b[0;31m---------------------------------------------------------------------------\u001b[0m",
      "\u001b[0;31mKeyboardInterrupt\u001b[0m                         Traceback (most recent call last)",
      "\u001b[0;32m<ipython-input-30-0e81964c22d0>\u001b[0m in \u001b[0;36m<module>\u001b[0;34m()\u001b[0m\n\u001b[1;32m      8\u001b[0m      \u001b[0mimage_path\u001b[0m \u001b[0;34m=\u001b[0m \u001b[0;34m'data/train/Train/'\u001b[0m\u001b[0;34m+\u001b[0m\u001b[0mimage_name\u001b[0m\u001b[0;34m\u001b[0m\u001b[0m\n\u001b[1;32m      9\u001b[0m      \u001b[0mimage\u001b[0m \u001b[0;34m=\u001b[0m \u001b[0mimread\u001b[0m\u001b[0;34m(\u001b[0m\u001b[0mimage_path\u001b[0m\u001b[0;34m)\u001b[0m\u001b[0;34m\u001b[0m\u001b[0m\n\u001b[0;32m---> 10\u001b[0;31m      \u001b[0mimage\u001b[0m \u001b[0;34m=\u001b[0m \u001b[0mimresize\u001b[0m\u001b[0;34m(\u001b[0m\u001b[0mimage\u001b[0m\u001b[0;34m,\u001b[0m\u001b[0;34m(\u001b[0m\u001b[0;36m32\u001b[0m\u001b[0;34m,\u001b[0m\u001b[0;36m32\u001b[0m\u001b[0;34m)\u001b[0m\u001b[0;34m)\u001b[0m\u001b[0;34m\u001b[0m\u001b[0m\n\u001b[0m\u001b[1;32m     11\u001b[0m      \u001b[0mimage\u001b[0m \u001b[0;34m=\u001b[0m \u001b[0mimage\u001b[0m\u001b[0;34m.\u001b[0m\u001b[0mastype\u001b[0m\u001b[0;34m(\u001b[0m\u001b[0;34m'float32'\u001b[0m\u001b[0;34m)\u001b[0m\u001b[0;34m\u001b[0m\u001b[0m\n\u001b[1;32m     12\u001b[0m      \u001b[0mtemp\u001b[0m\u001b[0;34m.\u001b[0m\u001b[0mappend\u001b[0m\u001b[0;34m(\u001b[0m\u001b[0mimage\u001b[0m\u001b[0;34m)\u001b[0m\u001b[0;34m\u001b[0m\u001b[0m\n",
      "\u001b[0;32m/usr/local/lib/python2.7/dist-packages/scipy/misc/pilutil.pyc\u001b[0m in \u001b[0;36mimresize\u001b[0;34m(arr, size, interp, mode)\u001b[0m\n\u001b[1;32m    488\u001b[0m         \u001b[0msize\u001b[0m \u001b[0;34m=\u001b[0m \u001b[0;34m(\u001b[0m\u001b[0msize\u001b[0m\u001b[0;34m[\u001b[0m\u001b[0;36m1\u001b[0m\u001b[0;34m]\u001b[0m\u001b[0;34m,\u001b[0m \u001b[0msize\u001b[0m\u001b[0;34m[\u001b[0m\u001b[0;36m0\u001b[0m\u001b[0;34m]\u001b[0m\u001b[0;34m)\u001b[0m\u001b[0;34m\u001b[0m\u001b[0m\n\u001b[1;32m    489\u001b[0m     \u001b[0mfunc\u001b[0m \u001b[0;34m=\u001b[0m \u001b[0;34m{\u001b[0m\u001b[0;34m'nearest'\u001b[0m\u001b[0;34m:\u001b[0m \u001b[0;36m0\u001b[0m\u001b[0;34m,\u001b[0m \u001b[0;34m'lanczos'\u001b[0m\u001b[0;34m:\u001b[0m \u001b[0;36m1\u001b[0m\u001b[0;34m,\u001b[0m \u001b[0;34m'bilinear'\u001b[0m\u001b[0;34m:\u001b[0m \u001b[0;36m2\u001b[0m\u001b[0;34m,\u001b[0m \u001b[0;34m'bicubic'\u001b[0m\u001b[0;34m:\u001b[0m \u001b[0;36m3\u001b[0m\u001b[0;34m,\u001b[0m \u001b[0;34m'cubic'\u001b[0m\u001b[0;34m:\u001b[0m \u001b[0;36m3\u001b[0m\u001b[0;34m}\u001b[0m\u001b[0;34m\u001b[0m\u001b[0m\n\u001b[0;32m--> 490\u001b[0;31m     \u001b[0mimnew\u001b[0m \u001b[0;34m=\u001b[0m \u001b[0mim\u001b[0m\u001b[0;34m.\u001b[0m\u001b[0mresize\u001b[0m\u001b[0;34m(\u001b[0m\u001b[0msize\u001b[0m\u001b[0;34m,\u001b[0m \u001b[0mresample\u001b[0m\u001b[0;34m=\u001b[0m\u001b[0mfunc\u001b[0m\u001b[0;34m[\u001b[0m\u001b[0minterp\u001b[0m\u001b[0;34m]\u001b[0m\u001b[0;34m)\u001b[0m\u001b[0;34m\u001b[0m\u001b[0m\n\u001b[0m\u001b[1;32m    491\u001b[0m     \u001b[0;32mreturn\u001b[0m \u001b[0mfromimage\u001b[0m\u001b[0;34m(\u001b[0m\u001b[0mimnew\u001b[0m\u001b[0;34m)\u001b[0m\u001b[0;34m\u001b[0m\u001b[0m\n\u001b[1;32m    492\u001b[0m \u001b[0;34m\u001b[0m\u001b[0m\n",
      "\u001b[0;32m/usr/lib/python2.7/dist-packages/PIL/Image.pyc\u001b[0m in \u001b[0;36mresize\u001b[0;34m(self, size, resample)\u001b[0m\n\u001b[1;32m   1332\u001b[0m                 \u001b[0;32mraise\u001b[0m \u001b[0mValueError\u001b[0m\u001b[0;34m(\u001b[0m\u001b[0;34m\"unsupported resampling filter\"\u001b[0m\u001b[0;34m)\u001b[0m\u001b[0;34m\u001b[0m\u001b[0m\n\u001b[1;32m   1333\u001b[0m         \u001b[0;32melse\u001b[0m\u001b[0;34m:\u001b[0m\u001b[0;34m\u001b[0m\u001b[0m\n\u001b[0;32m-> 1334\u001b[0;31m             \u001b[0mim\u001b[0m \u001b[0;34m=\u001b[0m \u001b[0mself\u001b[0m\u001b[0;34m.\u001b[0m\u001b[0mim\u001b[0m\u001b[0;34m.\u001b[0m\u001b[0mresize\u001b[0m\u001b[0;34m(\u001b[0m\u001b[0msize\u001b[0m\u001b[0;34m,\u001b[0m \u001b[0mresample\u001b[0m\u001b[0;34m)\u001b[0m\u001b[0;34m\u001b[0m\u001b[0m\n\u001b[0m\u001b[1;32m   1335\u001b[0m \u001b[0;34m\u001b[0m\u001b[0m\n\u001b[1;32m   1336\u001b[0m         \u001b[0;32mreturn\u001b[0m \u001b[0mself\u001b[0m\u001b[0;34m.\u001b[0m\u001b[0m_new\u001b[0m\u001b[0;34m(\u001b[0m\u001b[0mim\u001b[0m\u001b[0;34m)\u001b[0m\u001b[0;34m\u001b[0m\u001b[0m\n",
      "\u001b[0;31mKeyboardInterrupt\u001b[0m: "
     ]
    }
   ],
   "source": [
    " ######### Making train_x ############33\n",
    "    \n",
    "from scipy.misc import imresize\n",
    "\n",
    "temp = []\n",
    "\n",
    "for image_name in train.ID:\n",
    "      image_path = 'data/train/Train/'+image_name\n",
    "      image = imread(image_path)\n",
    "      image = imresize(image,(32,32))\n",
    "      image = image.astype('float32') \n",
    "      temp.append(image)\n",
    "        \n",
    "train_x = np.stack(temp)        \n"
   ]
  },
  {
   "cell_type": "code",
   "execution_count": null,
   "metadata": {
    "collapsed": true
   },
   "outputs": [],
   "source": [
    "########## Making test_x ############\n",
    "temp = []\n",
    "for image_name in test.ID:\n",
    "     image_path = 'data/test/Test/'+image_name\n",
    "     image = imread(image_path) #########  Here the function \" imread \" returns a numpy array , given a .jpg image  #######\n",
    "     image = imresize(image,(32,32))\n",
    "     temp.append(image.astype('float32')) \n",
    "    \n",
    "test_x = np.stack(temp)   "
   ]
  },
  {
   "cell_type": "code",
   "execution_count": 32,
   "metadata": {},
   "outputs": [
    {
     "name": "stdout",
     "output_type": "stream",
     "text": [
      "(19906, 32, 32, 3) (6636, 32, 32, 3)\n",
      "(19906, 3072) (6636, 3072)\n"
     ]
    }
   ],
   "source": [
    "print train_x.shape,test_x.shape\n",
    "\n",
    "train_x = np.reshape(train_x,(19906,32*32*3))\n",
    "test_x = np.reshape(test_x,(6636,32*32*3))\n",
    "\n",
    "print train_x.shape,test_x.shape\n",
    "\n",
    "\n",
    "train_x = train_x / 255\n",
    "test_x = test_x/255\n"
   ]
  },
  {
   "cell_type": "code",
   "execution_count": 33,
   "metadata": {},
   "outputs": [
    {
     "data": {
      "text/plain": [
       "MIDDLE    0.542751\n",
       "YOUNG     0.336883\n",
       "OLD       0.120366\n",
       "Name: Class, dtype: float64"
      ]
     },
     "execution_count": 33,
     "metadata": {},
     "output_type": "execute_result"
    }
   ],
   "source": [
    "################# Let's see what is the distribution of ages in the training dataset ###################\n",
    "train.Class.value_counts(normalize = True)"
   ]
  },
  {
   "cell_type": "code",
   "execution_count": 34,
   "metadata": {},
   "outputs": [
    {
     "data": {
      "text/html": [
       "<div>\n",
       "<style>\n",
       "    .dataframe thead tr:only-child th {\n",
       "        text-align: right;\n",
       "    }\n",
       "\n",
       "    .dataframe thead th {\n",
       "        text-align: left;\n",
       "    }\n",
       "\n",
       "    .dataframe tbody tr th {\n",
       "        vertical-align: top;\n",
       "    }\n",
       "</style>\n",
       "<table border=\"1\" class=\"dataframe\">\n",
       "  <thead>\n",
       "    <tr style=\"text-align: right;\">\n",
       "      <th></th>\n",
       "      <th>ID</th>\n",
       "    </tr>\n",
       "  </thead>\n",
       "  <tbody>\n",
       "    <tr>\n",
       "      <th>count</th>\n",
       "      <td>6636</td>\n",
       "    </tr>\n",
       "    <tr>\n",
       "      <th>unique</th>\n",
       "      <td>6636</td>\n",
       "    </tr>\n",
       "    <tr>\n",
       "      <th>top</th>\n",
       "      <td>23251.jpg</td>\n",
       "    </tr>\n",
       "    <tr>\n",
       "      <th>freq</th>\n",
       "      <td>1</td>\n",
       "    </tr>\n",
       "  </tbody>\n",
       "</table>\n",
       "</div>"
      ],
      "text/plain": [
       "               ID\n",
       "count        6636\n",
       "unique       6636\n",
       "top     23251.jpg\n",
       "freq            1"
      ]
     },
     "execution_count": 34,
     "metadata": {},
     "output_type": "execute_result"
    }
   ],
   "source": [
    "########## So we see that the majority people in the training data are MIDDLE aged ###########\n",
    "##### so a naive submission will be that since the majority of the people in the training set are MIDDLE aged , so we assume\n",
    "######### all test data people are also MIDDLE aged.\n",
    "test.describe()"
   ]
  },
  {
   "cell_type": "code",
   "execution_count": 35,
   "metadata": {},
   "outputs": [
    {
     "data": {
      "text/plain": [
       "<bound method DataFrame.describe of              ID\n",
       "0     25321.jpg\n",
       "1       989.jpg\n",
       "2     19277.jpg\n",
       "3     13093.jpg\n",
       "4      5367.jpg\n",
       "5     19851.jpg\n",
       "6     10384.jpg\n",
       "7     24567.jpg\n",
       "8      2029.jpg\n",
       "9      4956.jpg\n",
       "10    26131.jpg\n",
       "11    17407.jpg\n",
       "12    11136.jpg\n",
       "13    23038.jpg\n",
       "14     6333.jpg\n",
       "15    25076.jpg\n",
       "16    22102.jpg\n",
       "17    12396.jpg\n",
       "18    24719.jpg\n",
       "19    21354.jpg\n",
       "20    15362.jpg\n",
       "21    10415.jpg\n",
       "22     5295.jpg\n",
       "23     5531.jpg\n",
       "24    16784.jpg\n",
       "25    22442.jpg\n",
       "26    16794.jpg\n",
       "27    11261.jpg\n",
       "28    11540.jpg\n",
       "29    24286.jpg\n",
       "...         ...\n",
       "6606  13841.jpg\n",
       "6607   8999.jpg\n",
       "6608  15780.jpg\n",
       "6609  10241.jpg\n",
       "6610  13006.jpg\n",
       "6611  20322.jpg\n",
       "6612  24054.jpg\n",
       "6613  21310.jpg\n",
       "6614  24707.jpg\n",
       "6615   3292.jpg\n",
       "6616  18392.jpg\n",
       "6617   7731.jpg\n",
       "6618  26522.jpg\n",
       "6619  25614.jpg\n",
       "6620  11283.jpg\n",
       "6621   1485.jpg\n",
       "6622  15057.jpg\n",
       "6623   9582.jpg\n",
       "6624  10634.jpg\n",
       "6625  15146.jpg\n",
       "6626  16049.jpg\n",
       "6627  13461.jpg\n",
       "6628    147.jpg\n",
       "6629  22636.jpg\n",
       "6630   6512.jpg\n",
       "6631   1876.jpg\n",
       "6632  14940.jpg\n",
       "6633   3638.jpg\n",
       "6634    376.jpg\n",
       "6635   9357.jpg\n",
       "\n",
       "[6636 rows x 1 columns]>"
      ]
     },
     "execution_count": 35,
     "metadata": {},
     "output_type": "execute_result"
    }
   ],
   "source": [
    "test.describe"
   ]
  },
  {
   "cell_type": "code",
   "execution_count": 36,
   "metadata": {
    "collapsed": true
   },
   "outputs": [],
   "source": [
    "test['Class']='MIDDLE'"
   ]
  },
  {
   "cell_type": "code",
   "execution_count": 37,
   "metadata": {},
   "outputs": [
    {
     "data": {
      "text/html": [
       "<div>\n",
       "<style>\n",
       "    .dataframe thead tr:only-child th {\n",
       "        text-align: right;\n",
       "    }\n",
       "\n",
       "    .dataframe thead th {\n",
       "        text-align: left;\n",
       "    }\n",
       "\n",
       "    .dataframe tbody tr th {\n",
       "        vertical-align: top;\n",
       "    }\n",
       "</style>\n",
       "<table border=\"1\" class=\"dataframe\">\n",
       "  <thead>\n",
       "    <tr style=\"text-align: right;\">\n",
       "      <th></th>\n",
       "      <th>ID</th>\n",
       "      <th>Class</th>\n",
       "    </tr>\n",
       "  </thead>\n",
       "  <tbody>\n",
       "    <tr>\n",
       "      <th>count</th>\n",
       "      <td>6636</td>\n",
       "      <td>6636</td>\n",
       "    </tr>\n",
       "    <tr>\n",
       "      <th>unique</th>\n",
       "      <td>6636</td>\n",
       "      <td>1</td>\n",
       "    </tr>\n",
       "    <tr>\n",
       "      <th>top</th>\n",
       "      <td>23251.jpg</td>\n",
       "      <td>MIDDLE</td>\n",
       "    </tr>\n",
       "    <tr>\n",
       "      <th>freq</th>\n",
       "      <td>1</td>\n",
       "      <td>6636</td>\n",
       "    </tr>\n",
       "  </tbody>\n",
       "</table>\n",
       "</div>"
      ],
      "text/plain": [
       "               ID   Class\n",
       "count        6636    6636\n",
       "unique       6636       1\n",
       "top     23251.jpg  MIDDLE\n",
       "freq            1    6636"
      ]
     },
     "execution_count": 37,
     "metadata": {},
     "output_type": "execute_result"
    }
   ],
   "source": [
    "test.describe()"
   ]
  },
  {
   "cell_type": "code",
   "execution_count": 38,
   "metadata": {
    "collapsed": true
   },
   "outputs": [],
   "source": [
    "######################### FIRST SUBISSION ################\n",
    "\n",
    "test.to_csv('sub1.csv',index = False)"
   ]
  },
  {
   "cell_type": "code",
   "execution_count": 39,
   "metadata": {
    "collapsed": true
   },
   "outputs": [],
   "source": [
    "########################## SECOND MODEL : USING  SIMPLE NEURAL NETWORKS (SNNs)  FOR CLASSIFICATION ######################"
   ]
  },
  {
   "cell_type": "code",
   "execution_count": 40,
   "metadata": {},
   "outputs": [
    {
     "name": "stderr",
     "output_type": "stream",
     "text": [
      "Using TensorFlow backend.\n"
     ]
    }
   ],
   "source": [
    "import keras"
   ]
  },
  {
   "cell_type": "code",
   "execution_count": 41,
   "metadata": {
    "collapsed": true
   },
   "outputs": [],
   "source": [
    "from sklearn.preprocessing import LabelEncoder"
   ]
  },
  {
   "cell_type": "code",
   "execution_count": 42,
   "metadata": {
    "collapsed": true
   },
   "outputs": [],
   "source": [
    "# LabelEncoder() function is in sklearn.preprocessing.LableEcoder class\n",
    "# The function of LabelEncoder is to convert a list of categorical values to encoded numerical list.\n",
    "# The function of the keras.utils.np_utils.to_categorical() is to convert the above encoded numerical list to one-hot \n",
    "# representation matrix\n",
    "\n",
    "lb = LabelEncoder()\n",
    "train_y = lb.fit_transform(train.Class)\n",
    "train_y = keras.utils.np_utils.to_categorical(train_y)"
   ]
  },
  {
   "cell_type": "code",
   "execution_count": 43,
   "metadata": {},
   "outputs": [
    {
     "data": {
      "text/plain": [
       "array([[ 1.,  0.,  0.],\n",
       "       [ 0.,  0.,  1.],\n",
       "       [ 1.,  0.,  0.],\n",
       "       ..., \n",
       "       [ 1.,  0.,  0.],\n",
       "       [ 1.,  0.,  0.],\n",
       "       [ 1.,  0.,  0.]])"
      ]
     },
     "execution_count": 43,
     "metadata": {},
     "output_type": "execute_result"
    }
   ],
   "source": [
    "train_y"
   ]
  },
  {
   "cell_type": "code",
   "execution_count": 44,
   "metadata": {
    "collapsed": true
   },
   "outputs": [],
   "source": [
    "# what we did above ##\n",
    "\n",
    "#######################\n",
    "#######################\n",
    "# We can do this by first encoding the strings consistently to integers using the scikit-learn class LabelEncoder. \n",
    "# Then convert the vector of integers to a one hot encoding using the Keras function to_categorical().\n",
    "#######################\n",
    "#######################\n"
   ]
  },
  {
   "cell_type": "code",
   "execution_count": 45,
   "metadata": {
    "collapsed": true
   },
   "outputs": [],
   "source": [
    "##### BUILDING THE MODEL ITSELF #########\n",
    "\n",
    "###### Parameters for the model ############\n",
    "input_num_units = (32, 32, 3)\n",
    "hidden_num_units = 500\n",
    "output_num_classes = 3\n",
    "\n",
    "epochs = 5\n",
    "batch_size = 128\n",
    "\n",
    "###### importing keras modules to be able to build the model ###########\n",
    "from keras.models import Sequential\n",
    "from keras.layers import Dense\n"
   ]
  },
  {
   "cell_type": "code",
   "execution_count": 46,
   "metadata": {
    "collapsed": true
   },
   "outputs": [],
   "source": [
    "model = Sequential()\n",
    "model.add(Dense(output_dim=hidden_num_units, input_dim=32*32*3,activation='relu'))\n",
    "model.add(Dense(output_dim=output_num_classes,activation='softmax'))\n"
   ]
  },
  {
   "cell_type": "code",
   "execution_count": 47,
   "metadata": {},
   "outputs": [
    {
     "name": "stdout",
     "output_type": "stream",
     "text": [
      "____________________________________________________________________________________________________\n",
      "Layer (type)                     Output Shape          Param #     Connected to                     \n",
      "====================================================================================================\n",
      "dense_1 (Dense)                  (None, 500)           1536500     dense_input_1[0][0]              \n",
      "____________________________________________________________________________________________________\n",
      "dense_2 (Dense)                  (None, 3)             1503        dense_1[0][0]                    \n",
      "====================================================================================================\n",
      "Total params: 1,538,003\n",
      "Trainable params: 1,538,003\n",
      "Non-trainable params: 0\n",
      "____________________________________________________________________________________________________\n"
     ]
    }
   ],
   "source": [
    "model.summary()"
   ]
  },
  {
   "cell_type": "code",
   "execution_count": 48,
   "metadata": {},
   "outputs": [
    {
     "data": {
      "text/plain": [
       "(19906, 3)"
      ]
     },
     "execution_count": 48,
     "metadata": {},
     "output_type": "execute_result"
    }
   ],
   "source": [
    "train_x.shape\n",
    "train_y.shape"
   ]
  },
  {
   "cell_type": "code",
   "execution_count": 49,
   "metadata": {},
   "outputs": [
    {
     "name": "stdout",
     "output_type": "stream",
     "text": [
      "Epoch 1/5\n",
      "19906/19906 [==============================] - 7s - loss: 0.8928 - acc: 0.5766     \n",
      "Epoch 2/5\n",
      "19906/19906 [==============================] - 7s - loss: 0.8432 - acc: 0.6047     \n",
      "Epoch 3/5\n",
      "19906/19906 [==============================] - 8s - loss: 0.8251 - acc: 0.6158     \n",
      "Epoch 4/5\n",
      "19906/19906 [==============================] - 7s - loss: 0.8118 - acc: 0.6290     \n",
      "Epoch 5/5\n",
      "19906/19906 [==============================] - 7s - loss: 0.8061 - acc: 0.6263     \n"
     ]
    },
    {
     "data": {
      "text/plain": [
       "<keras.callbacks.History at 0x7f21eb7be750>"
      ]
     },
     "execution_count": 49,
     "metadata": {},
     "output_type": "execute_result"
    }
   ],
   "source": [
    "model.compile(optimizer='sgd', loss='categorical_crossentropy', metrics=['accuracy'])\n",
    "model.fit(train_x, train_y, batch_size=batch_size,nb_epoch=5,verbose=1)\n"
   ]
  },
  {
   "cell_type": "code",
   "execution_count": 80,
   "metadata": {},
   "outputs": [
    {
     "name": "stdout",
     "output_type": "stream",
     "text": [
      "Train on 15924 samples, validate on 3982 samples\n",
      "Epoch 1/5\n",
      "15924/15924 [==============================] - 6s - loss: 0.8053 - acc: 0.6253 - val_loss: 0.7849 - val_acc: 0.6366\n",
      "Epoch 2/5\n",
      "15924/15924 [==============================] - 6s - loss: 0.7953 - acc: 0.6370 - val_loss: 0.7861 - val_acc: 0.6366\n",
      "Epoch 3/5\n",
      "15924/15924 [==============================] - 7s - loss: 0.7933 - acc: 0.6355 - val_loss: 0.7755 - val_acc: 0.6522\n",
      "Epoch 4/5\n",
      "15924/15924 [==============================] - 6s - loss: 0.7905 - acc: 0.6375 - val_loss: 0.7958 - val_acc: 0.6351\n",
      "Epoch 5/5\n",
      "15924/15924 [==============================] - 6s - loss: 0.7875 - acc: 0.6409 - val_loss: 0.7852 - val_acc: 0.6479\n"
     ]
    },
    {
     "data": {
      "text/plain": [
       "<keras.callbacks.History at 0x7f7870f3ec50>"
      ]
     },
     "execution_count": 80,
     "metadata": {},
     "output_type": "execute_result"
    }
   ],
   "source": [
    "model.fit(train_x, train_y, batch_size=batch_size,nb_epoch=epochs,verbose=1, validation_split=0.2)"
   ]
  },
  {
   "cell_type": "code",
   "execution_count": 81,
   "metadata": {},
   "outputs": [
    {
     "name": "stdout",
     "output_type": "stream",
     "text": [
      "6560/6636 [============================>.] - ETA: 0s"
     ]
    }
   ],
   "source": [
    "prediction = model.predict_classes(test_x)"
   ]
  },
  {
   "cell_type": "code",
   "execution_count": 82,
   "metadata": {
    "collapsed": true
   },
   "outputs": [],
   "source": [
    "prediction = lb.inverse_transform(prediction)"
   ]
  },
  {
   "cell_type": "code",
   "execution_count": 83,
   "metadata": {
    "collapsed": true
   },
   "outputs": [],
   "source": [
    "test['Class']=prediction"
   ]
  },
  {
   "cell_type": "code",
   "execution_count": 84,
   "metadata": {
    "collapsed": true
   },
   "outputs": [],
   "source": [
    "test.to_csv('sub2.csv',index = False)"
   ]
  },
  {
   "cell_type": "code",
   "execution_count": 45,
   "metadata": {
    "collapsed": true
   },
   "outputs": [],
   "source": [
    "######## now using our final model ....CNN to classify these images ages \n",
    "train_x = train_x.reshape(-1,32,32,3)\n",
    "test_x = test_x.reshape(-1,32,32,3)\n"
   ]
  },
  {
   "cell_type": "code",
   "execution_count": 46,
   "metadata": {},
   "outputs": [
    {
     "data": {
      "text/plain": [
       "(19906, 3)"
      ]
     },
     "execution_count": 46,
     "metadata": {},
     "output_type": "execute_result"
    }
   ],
   "source": [
    "train_x.shape\n",
    "train_y.shape"
   ]
  },
  {
   "cell_type": "code",
   "execution_count": 65,
   "metadata": {
    "collapsed": true,
    "scrolled": true
   },
   "outputs": [],
   "source": [
    "from keras.layers import Conv2D, MaxPooling2D\n",
    "from keras.layers import Activation, Dropout, Flatten, Dense\n",
    "\n",
    "model = Sequential()\n",
    "model.add(Conv2D(32, 2, 2, input_shape=(32,32,3)))\n",
    "model.add(Activation('relu'))\n",
    "model.add(MaxPooling2D(pool_size=(2, 2)))\n",
    "\n",
    "model.add(Conv2D(32, 2, 2))\n",
    "model.add(Activation('relu'))\n",
    "model.add(MaxPooling2D(pool_size=(2, 2)))\n",
    "\n",
    "model.add(Conv2D(64, 2, 2))\n",
    "model.add(Activation('relu'))\n",
    "model.add(MaxPooling2D(pool_size=(2, 2)))\n",
    "\n",
    "\n",
    "model.add(Flatten())  # this converts our 3D feature maps to 1D feature vectors\n",
    "model.add(Dense(96))\n",
    "model.add(Activation('relu'))\n",
    "model.add(Dropout(0.5))\n",
    "model.add(Dense(3))\n",
    "model.add(Activation('softmax'))\n",
    "\n"
   ]
  },
  {
   "cell_type": "code",
   "execution_count": 66,
   "metadata": {
    "collapsed": true
   },
   "outputs": [],
   "source": [
    "model.compile(optimizer='adam', loss='categorical_crossentropy', metrics=['accuracy'])"
   ]
  },
  {
   "cell_type": "code",
   "execution_count": 68,
   "metadata": {
    "scrolled": true
   },
   "outputs": [
    {
     "name": "stdout",
     "output_type": "stream",
     "text": [
      "Epoch 1/10\n",
      "19906/19906 [==============================] - 26s - loss: 0.6805 - acc: 0.7038    \n",
      "Epoch 2/10\n",
      "19906/19906 [==============================] - 25s - loss: 0.6663 - acc: 0.7140    \n",
      "Epoch 3/10\n",
      "19906/19906 [==============================] - 25s - loss: 0.6444 - acc: 0.7255    \n",
      "Epoch 4/10\n",
      "19906/19906 [==============================] - 26s - loss: 0.6252 - acc: 0.7356    \n",
      "Epoch 5/10\n",
      "19906/19906 [==============================] - 26s - loss: 0.6140 - acc: 0.7395    \n",
      "Epoch 6/10\n",
      "19906/19906 [==============================] - 26s - loss: 0.5960 - acc: 0.7449    \n",
      "Epoch 7/10\n",
      "19906/19906 [==============================] - 25s - loss: 0.5849 - acc: 0.7532    \n",
      "Epoch 8/10\n",
      "19906/19906 [==============================] - 25s - loss: 0.5714 - acc: 0.7568    \n",
      "Epoch 9/10\n",
      "19906/19906 [==============================] - 26s - loss: 0.5604 - acc: 0.7618    \n",
      "Epoch 10/10\n",
      "19906/19906 [==============================] - 26s - loss: 0.5514 - acc: 0.7681    \n"
     ]
    },
    {
     "data": {
      "text/plain": [
       "<keras.callbacks.History at 0x7f21a0d0dad0>"
      ]
     },
     "execution_count": 68,
     "metadata": {},
     "output_type": "execute_result"
    }
   ],
   "source": [
    "model.fit(train_x, train_y, batch_size=batch_size,nb_epoch=10,verbose=1)"
   ]
  },
  {
   "cell_type": "code",
   "execution_count": 69,
   "metadata": {},
   "outputs": [
    {
     "name": "stdout",
     "output_type": "stream",
     "text": [
      "6624/6636 [============================>.] - ETA: 0s"
     ]
    }
   ],
   "source": [
    "prediction = model.predict_classes(test_x)\n",
    "prediction = lb.inverse_transform(prediction)\n",
    "test['Class']=prediction\n",
    "test.to_csv('sub3.csv',index = False)"
   ]
  },
  {
   "cell_type": "code",
   "execution_count": 48,
   "metadata": {
    "collapsed": true
   },
   "outputs": [],
   "source": [
    "########################## Building a more robust CNN model using ImageDataGenerator() ####################33\n",
    "\n",
    "from keras.preprocessing.image import ImageDataGenerator, array_to_img, img_to_array, load_img\n",
    "\n",
    "datagen = ImageDataGenerator(featurewise_center=True,featurewise_std_normalization=True,zca_whitening=True,\n",
    "        rotation_range=40,\n",
    "        width_shift_range=0.2,\n",
    "        height_shift_range=0.2,\n",
    "        shear_range=0.2,\n",
    "        zoom_range=0.2,\n",
    "        horizontal_flip=True,\n",
    "        fill_mode='nearest')\n",
    "\n",
    "datagen.fit(train_x)\n",
    "\n",
    "from keras.models import Sequential\n",
    "from keras.layers import Conv2D, MaxPooling2D\n",
    "from keras.layers import Activation, Dropout, Flatten, Dense\n",
    "\n",
    "model = Sequential()\n",
    "model.add(Conv2D(32, 2, 2, input_shape=(32,32,3)))\n",
    "model.add(Activation('relu'))\n",
    "model.add(MaxPooling2D(pool_size=(2, 2)))\n",
    "\n",
    "model.add(Conv2D(32, 2, 2))\n",
    "model.add(Activation('relu'))\n",
    "model.add(MaxPooling2D(pool_size=(2, 2)))\n",
    "\n",
    "model.add(Conv2D(64, 2, 2))\n",
    "model.add(Activation('relu'))\n",
    "model.add(MaxPooling2D(pool_size=(2, 2)))\n",
    "\n",
    "\n",
    "model.add(Flatten())  # this converts our 3D feature maps to 1D feature vectors\n",
    "model.add(Dense(96))\n",
    "model.add(Activation('relu'))\n",
    "model.add(Dropout(0.5))\n",
    "model.add(Dense(3))\n",
    "model.add(Activation('softmax'))\n",
    "\n",
    "# the model so far outputs 3D feature maps (height, width, features)"
   ]
  },
  {
   "cell_type": "code",
   "execution_count": 49,
   "metadata": {
    "collapsed": true
   },
   "outputs": [],
   "source": [
    "model.compile(optimizer='adam', loss='categorical_crossentropy', metrics=['accuracy'])"
   ]
  },
  {
   "cell_type": "code",
   "execution_count": null,
   "metadata": {
    "collapsed": true
   },
   "outputs": [],
   "source": []
  },
  {
   "cell_type": "code",
   "execution_count": 50,
   "metadata": {},
   "outputs": [
    {
     "name": "stdout",
     "output_type": "stream",
     "text": [
      "Epoch 1/10\n",
      "19906/19906 [==============================] - 78s - loss: 0.9708 - acc: 0.5377    \n",
      "Epoch 2/10\n",
      "19906/19906 [==============================] - 79s - loss: 0.9235 - acc: 0.5685    \n",
      "Epoch 3/10\n",
      "19906/19906 [==============================] - 78s - loss: 0.9034 - acc: 0.5888    \n",
      "Epoch 4/10\n",
      "19906/19906 [==============================] - 78s - loss: 0.8772 - acc: 0.6055    \n",
      "Epoch 5/10\n",
      "19906/19906 [==============================] - 78s - loss: 0.8590 - acc: 0.6103    \n",
      "Epoch 6/10\n",
      "19906/19906 [==============================] - 79s - loss: 0.8501 - acc: 0.6137    \n",
      "Epoch 7/10\n",
      "19906/19906 [==============================] - 79s - loss: 0.8325 - acc: 0.6215    \n",
      "Epoch 8/10\n",
      "19906/19906 [==============================] - 78s - loss: 0.8291 - acc: 0.6252    \n",
      "Epoch 9/10\n",
      "19906/19906 [==============================] - 78s - loss: 0.8178 - acc: 0.6349    \n",
      "Epoch 10/10\n",
      "19906/19906 [==============================] - 78s - loss: 0.8044 - acc: 0.6396    \n"
     ]
    }
   ],
   "source": [
    "model.fit_generator(\n",
    "        datagen.flow(train_x, train_y, batch_size=128),\n",
    "        samples_per_epoch=train_x.shape[0],\n",
    "        nb_epoch=10)\n",
    "model.save_weights('first_try.h5')"
   ]
  },
  {
   "cell_type": "code",
   "execution_count": 51,
   "metadata": {
    "collapsed": true
   },
   "outputs": [],
   "source": [
    "#################### so now we use  some transfer learning ########################"
   ]
  },
  {
   "cell_type": "code",
   "execution_count": 124,
   "metadata": {
    "scrolled": false
   },
   "outputs": [
    {
     "name": "stdout",
     "output_type": "stream",
     "text": [
      "____________________________________________________________________________________________________\n",
      "Layer (type)                     Output Shape          Param #     Connected to                     \n",
      "====================================================================================================\n",
      "input_5 (InputLayer)             (None, 50, 50, 3)     0                                            \n",
      "____________________________________________________________________________________________________\n",
      "block1_conv1 (Convolution2D)     (None, 50, 50, 64)    1792        input_5[0][0]                    \n",
      "____________________________________________________________________________________________________\n",
      "block1_conv2 (Convolution2D)     (None, 50, 50, 64)    36928       block1_conv1[0][0]               \n",
      "____________________________________________________________________________________________________\n",
      "block1_pool (MaxPooling2D)       (None, 25, 25, 64)    0           block1_conv2[0][0]               \n",
      "____________________________________________________________________________________________________\n",
      "block2_conv1 (Convolution2D)     (None, 25, 25, 128)   73856       block1_pool[0][0]                \n",
      "____________________________________________________________________________________________________\n",
      "block2_conv2 (Convolution2D)     (None, 25, 25, 128)   147584      block2_conv1[0][0]               \n",
      "____________________________________________________________________________________________________\n",
      "block2_pool (MaxPooling2D)       (None, 12, 12, 128)   0           block2_conv2[0][0]               \n",
      "____________________________________________________________________________________________________\n",
      "block3_conv1 (Convolution2D)     (None, 12, 12, 256)   295168      block2_pool[0][0]                \n",
      "____________________________________________________________________________________________________\n",
      "block3_conv2 (Convolution2D)     (None, 12, 12, 256)   590080      block3_conv1[0][0]               \n",
      "____________________________________________________________________________________________________\n",
      "block3_conv3 (Convolution2D)     (None, 12, 12, 256)   590080      block3_conv2[0][0]               \n",
      "____________________________________________________________________________________________________\n",
      "block3_pool (MaxPooling2D)       (None, 6, 6, 256)     0           block3_conv3[0][0]               \n",
      "____________________________________________________________________________________________________\n",
      "block4_conv1 (Convolution2D)     (None, 6, 6, 512)     1180160     block3_pool[0][0]                \n",
      "____________________________________________________________________________________________________\n",
      "block4_conv2 (Convolution2D)     (None, 6, 6, 512)     2359808     block4_conv1[0][0]               \n",
      "____________________________________________________________________________________________________\n",
      "block4_conv3 (Convolution2D)     (None, 6, 6, 512)     2359808     block4_conv2[0][0]               \n",
      "____________________________________________________________________________________________________\n",
      "block4_pool (MaxPooling2D)       (None, 3, 3, 512)     0           block4_conv3[0][0]               \n",
      "____________________________________________________________________________________________________\n",
      "block5_conv1 (Convolution2D)     (None, 3, 3, 512)     2359808     block4_pool[0][0]                \n",
      "____________________________________________________________________________________________________\n",
      "block5_conv2 (Convolution2D)     (None, 3, 3, 512)     2359808     block5_conv1[0][0]               \n",
      "____________________________________________________________________________________________________\n",
      "block5_conv3 (Convolution2D)     (None, 3, 3, 512)     2359808     block5_conv2[0][0]               \n",
      "____________________________________________________________________________________________________\n",
      "block5_pool (MaxPooling2D)       (None, 1, 1, 512)     0           block5_conv3[0][0]               \n",
      "====================================================================================================\n",
      "Total params: 14,714,688\n",
      "Trainable params: 14,714,688\n",
      "Non-trainable params: 0\n",
      "____________________________________________________________________________________________________\n",
      "____________________________________________________________________________________________________\n",
      "Layer (type)                     Output Shape          Param #     Connected to                     \n",
      "====================================================================================================\n",
      "input_5 (InputLayer)             (None, 50, 50, 3)     0                                            \n",
      "____________________________________________________________________________________________________\n",
      "block1_conv1 (Convolution2D)     (None, 50, 50, 64)    1792        input_5[0][0]                    \n",
      "____________________________________________________________________________________________________\n",
      "block1_conv2 (Convolution2D)     (None, 50, 50, 64)    36928       block1_conv1[0][0]               \n",
      "____________________________________________________________________________________________________\n",
      "block1_pool (MaxPooling2D)       (None, 25, 25, 64)    0           block1_conv2[0][0]               \n",
      "____________________________________________________________________________________________________\n",
      "block2_conv1 (Convolution2D)     (None, 25, 25, 128)   73856       block1_pool[0][0]                \n",
      "____________________________________________________________________________________________________\n",
      "block2_conv2 (Convolution2D)     (None, 25, 25, 128)   147584      block2_conv1[0][0]               \n",
      "____________________________________________________________________________________________________\n",
      "block2_pool (MaxPooling2D)       (None, 12, 12, 128)   0           block2_conv2[0][0]               \n",
      "____________________________________________________________________________________________________\n",
      "block3_conv1 (Convolution2D)     (None, 12, 12, 256)   295168      block2_pool[0][0]                \n",
      "____________________________________________________________________________________________________\n",
      "block3_conv2 (Convolution2D)     (None, 12, 12, 256)   590080      block3_conv1[0][0]               \n",
      "____________________________________________________________________________________________________\n",
      "block3_conv3 (Convolution2D)     (None, 12, 12, 256)   590080      block3_conv2[0][0]               \n",
      "____________________________________________________________________________________________________\n",
      "block3_pool (MaxPooling2D)       (None, 6, 6, 256)     0           block3_conv3[0][0]               \n",
      "____________________________________________________________________________________________________\n",
      "block4_conv1 (Convolution2D)     (None, 6, 6, 512)     1180160     block3_pool[0][0]                \n",
      "____________________________________________________________________________________________________\n",
      "block4_conv2 (Convolution2D)     (None, 6, 6, 512)     2359808     block4_conv1[0][0]               \n",
      "====================================================================================================\n",
      "Total params: 5,275,456\n",
      "Trainable params: 5,275,456\n",
      "Non-trainable params: 0\n",
      "____________________________________________________________________________________________________\n"
     ]
    }
   ],
   "source": [
    "from keras.applications.vgg16 import VGG16\n",
    "from keras.applications.vgg16 import preprocess_input\n",
    "from keras.applications.vgg16 import decode_predictions\n",
    "model = VGG16(weights='imagenet', include_top=False,input_shape = (50,50,3))\n",
    "model.summary()\n",
    "model.layers.pop()\n",
    "model.layers.pop()\n",
    "model.layers.pop()\n",
    "model.layers.pop()\n",
    "model.layers.pop()\n",
    "model.layers.pop()\n",
    "model.summary()"
   ]
  },
  {
   "cell_type": "code",
   "execution_count": 125,
   "metadata": {
    "scrolled": true
   },
   "outputs": [
    {
     "data": {
      "text/plain": [
       "<bound method DataFrame.describe of               ID   Class\n",
       "0        377.jpg  MIDDLE\n",
       "1      17814.jpg   YOUNG\n",
       "2      21283.jpg  MIDDLE\n",
       "3      16496.jpg   YOUNG\n",
       "4       4487.jpg  MIDDLE\n",
       "5       6283.jpg  MIDDLE\n",
       "6      23495.jpg   YOUNG\n",
       "7       7100.jpg   YOUNG\n",
       "8       6028.jpg   YOUNG\n",
       "9      22617.jpg     OLD\n",
       "10     11177.jpg   YOUNG\n",
       "11      2462.jpg  MIDDLE\n",
       "12     24116.jpg  MIDDLE\n",
       "13     17689.jpg  MIDDLE\n",
       "14       728.jpg  MIDDLE\n",
       "15      3003.jpg  MIDDLE\n",
       "16     14408.jpg     OLD\n",
       "17      6679.jpg   YOUNG\n",
       "18     15152.jpg     OLD\n",
       "19     24784.jpg  MIDDLE\n",
       "20      9970.jpg   YOUNG\n",
       "21     22550.jpg     OLD\n",
       "22       150.jpg   YOUNG\n",
       "23      7379.jpg  MIDDLE\n",
       "24     15387.jpg  MIDDLE\n",
       "25      2336.jpg   YOUNG\n",
       "26      9603.jpg  MIDDLE\n",
       "27      4025.jpg     OLD\n",
       "28     17696.jpg  MIDDLE\n",
       "29     17552.jpg   YOUNG\n",
       "...          ...     ...\n",
       "19876  11988.jpg     OLD\n",
       "19877   9407.jpg     OLD\n",
       "19878  25426.jpg   YOUNG\n",
       "19879  16609.jpg   YOUNG\n",
       "19880  18746.jpg   YOUNG\n",
       "19881  25714.jpg  MIDDLE\n",
       "19882  14939.jpg  MIDDLE\n",
       "19883  10025.jpg   YOUNG\n",
       "19884   6149.jpg     OLD\n",
       "19885   9733.jpg   YOUNG\n",
       "19886  22630.jpg  MIDDLE\n",
       "19887  11803.jpg  MIDDLE\n",
       "19888  10812.jpg   YOUNG\n",
       "19889   7038.jpg   YOUNG\n",
       "19890   3021.jpg  MIDDLE\n",
       "19891   4727.jpg   YOUNG\n",
       "19892   7979.jpg  MIDDLE\n",
       "19893  26159.jpg  MIDDLE\n",
       "19894   2040.jpg  MIDDLE\n",
       "19895  25347.jpg  MIDDLE\n",
       "19896  15100.jpg   YOUNG\n",
       "19897  26182.jpg  MIDDLE\n",
       "19898    742.jpg     OLD\n",
       "19899   5318.jpg  MIDDLE\n",
       "19900  25514.jpg  MIDDLE\n",
       "19901   2482.jpg  MIDDLE\n",
       "19902  20085.jpg   YOUNG\n",
       "19903  19663.jpg  MIDDLE\n",
       "19904  10132.jpg  MIDDLE\n",
       "19905   9896.jpg  MIDDLE\n",
       "\n",
       "[19906 rows x 2 columns]>"
      ]
     },
     "execution_count": 125,
     "metadata": {},
     "output_type": "execute_result"
    }
   ],
   "source": [
    "train.describe"
   ]
  },
  {
   "cell_type": "code",
   "execution_count": 126,
   "metadata": {
    "collapsed": true
   },
   "outputs": [],
   "source": [
    " ############ Making train_x ##############   \n",
    "from keras.preprocessing import image\n",
    "temp = []\n",
    "\n",
    "for i,image_name in enumerate(train.ID):\n",
    "      image_path = 'data/train/Train/'+image_name\n",
    "      im = image.load_img(image_path,target_size = (50,50))\n",
    "      im = image.img_to_array(im)\n",
    "      #im = np.expand_dims(im,axis =0)\n",
    "      #im = im.astype('float32') \n",
    "      temp.append(im)\n",
    "        \n",
    "train_x = np.array(temp)     \n",
    "\n",
    "\n",
    "######### Making test_x ############\n",
    "temp = []\n",
    "for image_name in test.ID:\n",
    "     image_path = 'data/test/Test/'+image_name\n",
    "     im = image.load_img(image_path,target_size = (50,50))\n",
    "     im = image.img_to_array(im)\n",
    "     #im = np.expand_dims(im,axis =0)\n",
    "     #im = im.astype('float32') \n",
    "     temp.append(im)    \n",
    "     \n",
    "test_x = np.array(temp) "
   ]
  },
  {
   "cell_type": "code",
   "execution_count": 127,
   "metadata": {
    "collapsed": true
   },
   "outputs": [],
   "source": [
    "\n",
    "train_x = preprocess_input(train_x)\n",
    "\n",
    "features_train=model.predict(train_x)\n",
    "# Extracting features from the train dataset using the VGG16 pre-trained model\n",
    "test_x = preprocess_input(test_x)\n",
    "features_test=model.predict(test_x)"
   ]
  },
  {
   "cell_type": "code",
   "execution_count": 128,
   "metadata": {},
   "outputs": [
    {
     "data": {
      "text/plain": [
       "(19906, 50, 50, 3)"
      ]
     },
     "execution_count": 128,
     "metadata": {},
     "output_type": "execute_result"
    }
   ],
   "source": [
    "train_x.shape"
   ]
  },
  {
   "cell_type": "code",
   "execution_count": 129,
   "metadata": {},
   "outputs": [
    {
     "data": {
      "text/plain": [
       "(6636, 1, 1, 512)"
      ]
     },
     "execution_count": 129,
     "metadata": {},
     "output_type": "execute_result"
    }
   ],
   "source": [
    "features_test.shape"
   ]
  },
  {
   "cell_type": "code",
   "execution_count": 130,
   "metadata": {},
   "outputs": [
    {
     "ename": "ValueError",
     "evalue": "cannot reshape array of size 10191872 into shape (19906,18432)",
     "output_type": "error",
     "traceback": [
      "\u001b[0;31m---------------------------------------------------------------------------\u001b[0m",
      "\u001b[0;31mValueError\u001b[0m                                Traceback (most recent call last)",
      "\u001b[0;32m<ipython-input-130-24e04d3d0eda>\u001b[0m in \u001b[0;36m<module>\u001b[0;34m()\u001b[0m\n\u001b[0;32m----> 1\u001b[0;31m \u001b[0mtrain_x\u001b[0m \u001b[0;34m=\u001b[0m \u001b[0mfeatures_train\u001b[0m\u001b[0;34m.\u001b[0m\u001b[0mreshape\u001b[0m\u001b[0;34m(\u001b[0m\u001b[0;36m19906\u001b[0m\u001b[0;34m,\u001b[0m\u001b[0;36m6\u001b[0m\u001b[0;34m*\u001b[0m\u001b[0;36m6\u001b[0m\u001b[0;34m*\u001b[0m\u001b[0;36m512\u001b[0m\u001b[0;34m)\u001b[0m\u001b[0;34m\u001b[0m\u001b[0m\n\u001b[0m",
      "\u001b[0;31mValueError\u001b[0m: cannot reshape array of size 10191872 into shape (19906,18432)"
     ]
    }
   ],
   "source": [
    "train_x = features_train.reshape(19906,6*6*512)"
   ]
  },
  {
   "cell_type": "code",
   "execution_count": null,
   "metadata": {},
   "outputs": [],
   "source": [
    "test_x = features_test.reshape(6636,6*6*512)"
   ]
  },
  {
   "cell_type": "code",
   "execution_count": null,
   "metadata": {
    "collapsed": true
   },
   "outputs": [],
   "source": [
    "train_y=np.asarray(train['Class'])\n",
    "# performing one-hot encoding for the target variable\n",
    "\n",
    "train_y=pd.get_dummies(train_y)\n",
    "train_y=np.array(train_y)\n",
    "# creating training and validation set\n",
    "\n",
    "from sklearn.model_selection import train_test_split\n",
    "X_train, X_valid, Y_train, Y_valid=train_test_split(train_x,train_y,test_size=0.3, random_state=30)"
   ]
  },
  {
   "cell_type": "code",
   "execution_count": 118,
   "metadata": {},
   "outputs": [],
   "source": [
    "########## Now adding a layer a the end layers according to our data ############\n",
    "\n",
    "# creating a mlp model\n",
    "from keras.models import Sequential\n",
    "from keras.layers import Dense, Activation\n",
    "model=Sequential()\n",
    "\n",
    "model.add(Dense(200, input_dim=512, activation='relu'))\n",
    "keras.layers.core.Dropout(0.8, noise_shape=None, seed=None)\n",
    "\n",
    "model.add(Dense(64,input_dim=200,activation='sigmoid'))\n",
    "keras.layers.core.Dropout(0.8, noise_shape=None, seed=None)\n",
    "\n",
    "\n",
    "model.add(Dense(3,input_dim = 64,activation='softmax'))\n",
    "\n",
    "\n",
    "model.compile(loss='categorical_crossentropy', optimizer=\"adam\", metrics=['accuracy'])\n",
    "\n"
   ]
  },
  {
   "cell_type": "code",
   "execution_count": 119,
   "metadata": {},
   "outputs": [
    {
     "name": "stdout",
     "output_type": "stream",
     "text": [
      "Train on 13934 samples, validate on 5972 samples\n",
      "Epoch 1/20\n",
      "13934/13934 [==============================] - ETA: 0s - loss: 0.8560 - acc: 0.615 - 1s - loss: 0.8543 - acc: 0.6160 - val_loss: 0.8016 - val_acc: 0.6480\n",
      "Epoch 2/20\n",
      "13934/13934 [==============================] - 0s - loss: 0.7588 - acc: 0.6636 - val_loss: 0.7792 - val_acc: 0.6525\n",
      "Epoch 3/20\n",
      "13934/13934 [==============================] - 0s - loss: 0.7133 - acc: 0.6895 - val_loss: 0.7558 - val_acc: 0.6693\n",
      "Epoch 4/20\n",
      "13934/13934 [==============================] - 0s - loss: 0.6645 - acc: 0.7119 - val_loss: 0.7490 - val_acc: 0.6750\n",
      "Epoch 5/20\n",
      "13934/13934 [==============================] - 0s - loss: 0.6076 - acc: 0.7415 - val_loss: 0.7739 - val_acc: 0.6680\n",
      "Epoch 6/20\n",
      "13934/13934 [==============================] - 0s - loss: 0.5657 - acc: 0.7639 - val_loss: 0.7571 - val_acc: 0.6815\n",
      "Epoch 7/20\n",
      "13934/13934 [==============================] - 0s - loss: 0.5042 - acc: 0.7911 - val_loss: 0.7655 - val_acc: 0.6824\n",
      "Epoch 8/20\n",
      "13934/13934 [==============================] - 0s - loss: 0.4605 - acc: 0.8163 - val_loss: 0.7678 - val_acc: 0.6916\n",
      "Epoch 9/20\n",
      "13934/13934 [==============================] - 0s - loss: 0.4114 - acc: 0.8370 - val_loss: 0.7866 - val_acc: 0.6832\n",
      "Epoch 10/20\n",
      "13934/13934 [==============================] - 0s - loss: 0.3673 - acc: 0.8570 - val_loss: 0.8226 - val_acc: 0.6795\n",
      "Epoch 11/20\n",
      "13934/13934 [==============================] - 0s - loss: 0.3198 - acc: 0.8763 - val_loss: 0.8605 - val_acc: 0.6822\n",
      "Epoch 12/20\n",
      "13934/13934 [==============================] - 0s - loss: 0.2854 - acc: 0.8932 - val_loss: 0.8739 - val_acc: 0.6859\n",
      "Epoch 13/20\n",
      "13934/13934 [==============================] - 0s - loss: 0.2537 - acc: 0.9077 - val_loss: 0.9185 - val_acc: 0.6854\n",
      "Epoch 14/20\n",
      "13934/13934 [==============================] - 0s - loss: 0.2236 - acc: 0.9208 - val_loss: 0.9582 - val_acc: 0.6832\n",
      "Epoch 15/20\n",
      "13934/13934 [==============================] - 0s - loss: 0.2023 - acc: 0.9283 - val_loss: 0.9986 - val_acc: 0.6795\n",
      "Epoch 16/20\n",
      "13934/13934 [==============================] - 0s - loss: 0.1827 - acc: 0.9366 - val_loss: 1.0416 - val_acc: 0.6800\n",
      "Epoch 17/20\n",
      "13934/13934 [==============================] - 0s - loss: 0.1547 - acc: 0.9480 - val_loss: 1.0821 - val_acc: 0.6835\n",
      "Epoch 18/20\n",
      "13934/13934 [==============================] - 0s - loss: 0.1357 - acc: 0.9551 - val_loss: 1.1402 - val_acc: 0.6820\n",
      "Epoch 19/20\n",
      "13934/13934 [==============================] - 0s - loss: 0.1230 - acc: 0.9600 - val_loss: 1.1786 - val_acc: 0.6803\n",
      "Epoch 20/20\n",
      "13934/13934 [==============================] - 0s - loss: 0.1117 - acc: 0.9663 - val_loss: 1.2496 - val_acc: 0.6731\n"
     ]
    },
    {
     "data": {
      "text/plain": [
       "<keras.callbacks.History at 0x7fe0afcfc590>"
      ]
     },
     "execution_count": 119,
     "metadata": {},
     "output_type": "execute_result"
    }
   ],
   "source": [
    "model.fit(X_train, Y_train, nb_epoch=20, batch_size=100,validation_data=(X_valid,Y_valid))"
   ]
  },
  {
   "cell_type": "code",
   "execution_count": null,
   "metadata": {
    "collapsed": true
   },
   "outputs": [],
   "source": []
  }
 ],
 "metadata": {
  "kernelspec": {
   "display_name": "Python 2",
   "language": "python",
   "name": "python2"
  },
  "language_info": {
   "codemirror_mode": {
    "name": "ipython",
    "version": 2
   },
   "file_extension": ".py",
   "mimetype": "text/x-python",
   "name": "python",
   "nbconvert_exporter": "python",
   "pygments_lexer": "ipython2",
   "version": "2.7.6"
  }
 },
 "nbformat": 4,
 "nbformat_minor": 2
}
